{
 "cells": [
  {
   "cell_type": "code",
   "execution_count": 12,
   "id": "1bcc6192",
   "metadata": {},
   "outputs": [],
   "source": [
    "from sklearn.model_selection import train_test_split\n",
    "from sklearn.neighbors import KNeighborsClassifier\n",
    "from sklearn.metrics import accuracy_score\n",
    "from sklearn.neighbors import BallTree\n",
    "import faiss\n",
    "import scipy"
   ]
  },
  {
   "cell_type": "code",
   "execution_count": 2,
   "id": "a000cdd9",
   "metadata": {},
   "outputs": [],
   "source": [
    "import numpy as np\n",
    "import pandas as pd\n",
    "from sklearn.manifold import TSNE\n",
    "import matplotlib.pyplot as plt\n",
    "from Bio import SeqIO\n",
    "\n",
    "sequence_file = '/mnt/home/thamamsy/ceph/scrap/cafa/embeddings/Train/train_sequences.fasta'\n",
    "record_ids = []\n",
    "record_seqs = []\n",
    "\n",
    "with open(sequence_file) as handle:\n",
    "    for record in SeqIO.parse(handle, \"fasta\"):\n",
    "        record_ids.append(record.id)\n",
    "        record_seqs.append(str(record.seq))\n",
    "        \n",
    "lengths = [len(record_seqs[i]) for i in range(len(record_seqs))]\n",
    "record_df = pd.DataFrame({'Id': record_ids, 'Seq': record_seqs, 'Length': lengths})\n",
    "record_df_below_seq = record_df[record_df['Length'] < 2500]\n",
    "sequences = list(record_df_below_seq['Seq'].values)"
   ]
  },
  {
   "cell_type": "code",
   "execution_count": 3,
   "id": "cf6639f1",
   "metadata": {
    "scrolled": false
   },
   "outputs": [
    {
     "data": {
      "text/plain": [
       "142246"
      ]
     },
     "execution_count": 3,
     "metadata": {},
     "output_type": "execute_result"
    }
   ],
   "source": [
    "len(record_ids)"
   ]
  },
  {
   "cell_type": "code",
   "execution_count": 4,
   "id": "6be5d0dc",
   "metadata": {},
   "outputs": [],
   "source": [
    "#record_df_below_seq"
   ]
  },
  {
   "cell_type": "code",
   "execution_count": 5,
   "id": "6873c8e9",
   "metadata": {},
   "outputs": [
    {
     "data": {
      "text/plain": [
       "140478"
      ]
     },
     "execution_count": 5,
     "metadata": {},
     "output_type": "execute_result"
    }
   ],
   "source": [
    "len(sequences)"
   ]
  },
  {
   "cell_type": "code",
   "execution_count": 6,
   "id": "1bdf4077",
   "metadata": {},
   "outputs": [],
   "source": [
    "#record_df"
   ]
  },
  {
   "cell_type": "code",
   "execution_count": 6,
   "id": "135c55be",
   "metadata": {},
   "outputs": [],
   "source": [
    "train_terms = pd.read_csv(\"/mnt/home/thamamsy/ceph/scrap/cafa/embeddings/Train/train_terms.tsv\", sep = '\\t')"
   ]
  },
  {
   "cell_type": "code",
   "execution_count": 7,
   "id": "c5b16d0b",
   "metadata": {},
   "outputs": [
    {
     "data": {
      "text/html": [
       "<div>\n",
       "<style scoped>\n",
       "    .dataframe tbody tr th:only-of-type {\n",
       "        vertical-align: middle;\n",
       "    }\n",
       "\n",
       "    .dataframe tbody tr th {\n",
       "        vertical-align: top;\n",
       "    }\n",
       "\n",
       "    .dataframe thead th {\n",
       "        text-align: right;\n",
       "    }\n",
       "</style>\n",
       "<table border=\"1\" class=\"dataframe\">\n",
       "  <thead>\n",
       "    <tr style=\"text-align: right;\">\n",
       "      <th></th>\n",
       "      <th>EntryID</th>\n",
       "      <th>term</th>\n",
       "      <th>aspect</th>\n",
       "    </tr>\n",
       "  </thead>\n",
       "  <tbody>\n",
       "    <tr>\n",
       "      <th>0</th>\n",
       "      <td>A0A009IHW8</td>\n",
       "      <td>GO:0008152</td>\n",
       "      <td>BPO</td>\n",
       "    </tr>\n",
       "    <tr>\n",
       "      <th>1</th>\n",
       "      <td>A0A009IHW8</td>\n",
       "      <td>GO:0034655</td>\n",
       "      <td>BPO</td>\n",
       "    </tr>\n",
       "    <tr>\n",
       "      <th>2</th>\n",
       "      <td>A0A009IHW8</td>\n",
       "      <td>GO:0072523</td>\n",
       "      <td>BPO</td>\n",
       "    </tr>\n",
       "    <tr>\n",
       "      <th>3</th>\n",
       "      <td>A0A009IHW8</td>\n",
       "      <td>GO:0044270</td>\n",
       "      <td>BPO</td>\n",
       "    </tr>\n",
       "    <tr>\n",
       "      <th>4</th>\n",
       "      <td>A0A009IHW8</td>\n",
       "      <td>GO:0006753</td>\n",
       "      <td>BPO</td>\n",
       "    </tr>\n",
       "    <tr>\n",
       "      <th>...</th>\n",
       "      <td>...</td>\n",
       "      <td>...</td>\n",
       "      <td>...</td>\n",
       "    </tr>\n",
       "    <tr>\n",
       "      <th>5363858</th>\n",
       "      <td>X5L565</td>\n",
       "      <td>GO:0050649</td>\n",
       "      <td>MFO</td>\n",
       "    </tr>\n",
       "    <tr>\n",
       "      <th>5363859</th>\n",
       "      <td>X5L565</td>\n",
       "      <td>GO:0016491</td>\n",
       "      <td>MFO</td>\n",
       "    </tr>\n",
       "    <tr>\n",
       "      <th>5363860</th>\n",
       "      <td>X5M5N0</td>\n",
       "      <td>GO:0005515</td>\n",
       "      <td>MFO</td>\n",
       "    </tr>\n",
       "    <tr>\n",
       "      <th>5363861</th>\n",
       "      <td>X5M5N0</td>\n",
       "      <td>GO:0005488</td>\n",
       "      <td>MFO</td>\n",
       "    </tr>\n",
       "    <tr>\n",
       "      <th>5363862</th>\n",
       "      <td>X5M5N0</td>\n",
       "      <td>GO:0003674</td>\n",
       "      <td>MFO</td>\n",
       "    </tr>\n",
       "  </tbody>\n",
       "</table>\n",
       "<p>5363863 rows × 3 columns</p>\n",
       "</div>"
      ],
      "text/plain": [
       "            EntryID        term aspect\n",
       "0        A0A009IHW8  GO:0008152    BPO\n",
       "1        A0A009IHW8  GO:0034655    BPO\n",
       "2        A0A009IHW8  GO:0072523    BPO\n",
       "3        A0A009IHW8  GO:0044270    BPO\n",
       "4        A0A009IHW8  GO:0006753    BPO\n",
       "...             ...         ...    ...\n",
       "5363858      X5L565  GO:0050649    MFO\n",
       "5363859      X5L565  GO:0016491    MFO\n",
       "5363860      X5M5N0  GO:0005515    MFO\n",
       "5363861      X5M5N0  GO:0005488    MFO\n",
       "5363862      X5M5N0  GO:0003674    MFO\n",
       "\n",
       "[5363863 rows x 3 columns]"
      ]
     },
     "execution_count": 7,
     "metadata": {},
     "output_type": "execute_result"
    }
   ],
   "source": [
    "train_terms"
   ]
  },
  {
   "cell_type": "code",
   "execution_count": 8,
   "id": "50b0abf3",
   "metadata": {},
   "outputs": [
    {
     "data": {
      "text/plain": [
       "31466"
      ]
     },
     "execution_count": 8,
     "metadata": {},
     "output_type": "execute_result"
    }
   ],
   "source": [
    "len(train_terms.term.unique())"
   ]
  },
  {
   "cell_type": "code",
   "execution_count": 9,
   "id": "ed7e0eaf",
   "metadata": {},
   "outputs": [
    {
     "name": "stdout",
     "output_type": "stream",
     "text": [
      "(140478, 512)\n"
     ]
    }
   ],
   "source": [
    "train_embeddings = np.load('../../cafa/tm_vec_train.npy')\n",
    "#test_embeddings =\n",
    "# Now lets convert embeddings numpy array(train_embeddings) into pandas dataframe.\n",
    "column_num = train_embeddings.shape[1]\n",
    "train_df = pd.DataFrame(train_embeddings, columns = [\"Column_\" + str(i) for i in range(1, column_num+1)], \n",
    "                        index = record_df_below_seq.Id)\n",
    "print(train_df.shape)"
   ]
  },
  {
   "cell_type": "code",
   "execution_count": 34,
   "id": "48b7a8ae",
   "metadata": {},
   "outputs": [],
   "source": [
    "df = train_df.sample(frac=1)\n",
    "train_df1 = df.iloc[:len(train_df) * 8//10]\n",
    "test_df1 = df.iloc[len(train_df) * 8//10:]\n",
    "# Convert the DataFrame to a NumPy array\n",
    "data_array = train_df1.to_numpy(dtype='float32')\n",
    "# Build the BallTree index\n",
    "index = faiss.IndexFlatL2(data_array.shape[1])  # L2 distance is used for the BallTree\n",
    "index.add(data_array)\n",
    "\n",
    "# Convert the test DataFrame to a NumPy array\n",
    "test_array = test_df1.to_numpy(dtype='float32')\n",
    "\n",
    "# Perform nearest neighbor search with the BallTree index\n",
    "k = 1  # Number of nearest neighbors to find\n",
    "distances, indices = index.search(test_array, k)\n",
    "\n",
    "# distances: array of shape (num_queries, k) containing the distances to the k nearest neighbors\n",
    "# indices: array of shape (num_queries, k) containing the indices of the k nearest neighbors in the original data\n",
    "\n",
    "# Now we have the nearest neighbors' indices and distances for each test sample.\n",
    "# access the corresponding data points in the original DataFrame as follows:\n",
    "nearest_neighbors_df = train_df1.iloc[indices[:, 0]]"
   ]
  },
  {
   "cell_type": "code",
   "execution_count": 83,
   "id": "4861aa79",
   "metadata": {},
   "outputs": [
    {
     "data": {
      "text/html": [
       "<div>\n",
       "<style scoped>\n",
       "    .dataframe tbody tr th:only-of-type {\n",
       "        vertical-align: middle;\n",
       "    }\n",
       "\n",
       "    .dataframe tbody tr th {\n",
       "        vertical-align: top;\n",
       "    }\n",
       "\n",
       "    .dataframe thead th {\n",
       "        text-align: right;\n",
       "    }\n",
       "</style>\n",
       "<table border=\"1\" class=\"dataframe\">\n",
       "  <thead>\n",
       "    <tr style=\"text-align: right;\">\n",
       "      <th></th>\n",
       "      <th>Column_1</th>\n",
       "      <th>Column_2</th>\n",
       "      <th>Column_3</th>\n",
       "      <th>Column_4</th>\n",
       "      <th>Column_5</th>\n",
       "      <th>Column_6</th>\n",
       "      <th>Column_7</th>\n",
       "      <th>Column_8</th>\n",
       "      <th>Column_9</th>\n",
       "      <th>Column_10</th>\n",
       "      <th>...</th>\n",
       "      <th>Column_503</th>\n",
       "      <th>Column_504</th>\n",
       "      <th>Column_505</th>\n",
       "      <th>Column_506</th>\n",
       "      <th>Column_507</th>\n",
       "      <th>Column_508</th>\n",
       "      <th>Column_509</th>\n",
       "      <th>Column_510</th>\n",
       "      <th>Column_511</th>\n",
       "      <th>Column_512</th>\n",
       "    </tr>\n",
       "    <tr>\n",
       "      <th>Id</th>\n",
       "      <th></th>\n",
       "      <th></th>\n",
       "      <th></th>\n",
       "      <th></th>\n",
       "      <th></th>\n",
       "      <th></th>\n",
       "      <th></th>\n",
       "      <th></th>\n",
       "      <th></th>\n",
       "      <th></th>\n",
       "      <th></th>\n",
       "      <th></th>\n",
       "      <th></th>\n",
       "      <th></th>\n",
       "      <th></th>\n",
       "      <th></th>\n",
       "      <th></th>\n",
       "      <th></th>\n",
       "      <th></th>\n",
       "      <th></th>\n",
       "      <th></th>\n",
       "    </tr>\n",
       "  </thead>\n",
       "  <tbody>\n",
       "    <tr>\n",
       "      <th>Q2F922</th>\n",
       "      <td>-1.418940</td>\n",
       "      <td>-0.868099</td>\n",
       "      <td>0.715212</td>\n",
       "      <td>-0.672144</td>\n",
       "      <td>0.046930</td>\n",
       "      <td>0.566642</td>\n",
       "      <td>0.840719</td>\n",
       "      <td>0.838151</td>\n",
       "      <td>-0.647730</td>\n",
       "      <td>-0.061730</td>\n",
       "      <td>...</td>\n",
       "      <td>-0.400778</td>\n",
       "      <td>1.029336</td>\n",
       "      <td>1.317459</td>\n",
       "      <td>-1.138005</td>\n",
       "      <td>-0.659701</td>\n",
       "      <td>-0.547679</td>\n",
       "      <td>0.671604</td>\n",
       "      <td>0.199940</td>\n",
       "      <td>0.812962</td>\n",
       "      <td>0.983339</td>\n",
       "    </tr>\n",
       "    <tr>\n",
       "      <th>P0ACG4</th>\n",
       "      <td>-1.733634</td>\n",
       "      <td>-0.479552</td>\n",
       "      <td>1.123491</td>\n",
       "      <td>0.057367</td>\n",
       "      <td>-0.634735</td>\n",
       "      <td>-1.466390</td>\n",
       "      <td>0.357748</td>\n",
       "      <td>1.296579</td>\n",
       "      <td>-0.587296</td>\n",
       "      <td>-0.469951</td>\n",
       "      <td>...</td>\n",
       "      <td>-1.340290</td>\n",
       "      <td>1.005502</td>\n",
       "      <td>0.003859</td>\n",
       "      <td>-1.507618</td>\n",
       "      <td>0.280576</td>\n",
       "      <td>-1.495717</td>\n",
       "      <td>-1.114776</td>\n",
       "      <td>-0.456751</td>\n",
       "      <td>-0.372399</td>\n",
       "      <td>0.187828</td>\n",
       "    </tr>\n",
       "    <tr>\n",
       "      <th>F1R9G5</th>\n",
       "      <td>-2.483528</td>\n",
       "      <td>0.219796</td>\n",
       "      <td>0.762714</td>\n",
       "      <td>1.209975</td>\n",
       "      <td>-0.766722</td>\n",
       "      <td>0.962693</td>\n",
       "      <td>-1.068817</td>\n",
       "      <td>0.773379</td>\n",
       "      <td>-0.532433</td>\n",
       "      <td>0.604654</td>\n",
       "      <td>...</td>\n",
       "      <td>-0.476525</td>\n",
       "      <td>0.786754</td>\n",
       "      <td>0.283060</td>\n",
       "      <td>-0.039663</td>\n",
       "      <td>-1.207704</td>\n",
       "      <td>-1.472482</td>\n",
       "      <td>0.797554</td>\n",
       "      <td>0.197788</td>\n",
       "      <td>-0.705257</td>\n",
       "      <td>0.442182</td>\n",
       "    </tr>\n",
       "    <tr>\n",
       "      <th>Q5K4L6</th>\n",
       "      <td>1.685514</td>\n",
       "      <td>-0.298108</td>\n",
       "      <td>2.870711</td>\n",
       "      <td>-2.682812</td>\n",
       "      <td>-2.824287</td>\n",
       "      <td>2.353664</td>\n",
       "      <td>-1.630231</td>\n",
       "      <td>1.031535</td>\n",
       "      <td>1.416975</td>\n",
       "      <td>1.903122</td>\n",
       "      <td>...</td>\n",
       "      <td>-0.482224</td>\n",
       "      <td>3.592381</td>\n",
       "      <td>-1.787926</td>\n",
       "      <td>3.761530</td>\n",
       "      <td>-2.827449</td>\n",
       "      <td>1.468741</td>\n",
       "      <td>-2.740567</td>\n",
       "      <td>2.957629</td>\n",
       "      <td>1.207672</td>\n",
       "      <td>0.893299</td>\n",
       "    </tr>\n",
       "    <tr>\n",
       "      <th>Q8IBE5</th>\n",
       "      <td>-0.809251</td>\n",
       "      <td>-0.783404</td>\n",
       "      <td>2.162811</td>\n",
       "      <td>1.196074</td>\n",
       "      <td>-0.427149</td>\n",
       "      <td>0.887493</td>\n",
       "      <td>-0.490968</td>\n",
       "      <td>2.279024</td>\n",
       "      <td>0.047895</td>\n",
       "      <td>1.043612</td>\n",
       "      <td>...</td>\n",
       "      <td>-0.478227</td>\n",
       "      <td>1.042970</td>\n",
       "      <td>0.695211</td>\n",
       "      <td>-2.052660</td>\n",
       "      <td>0.107395</td>\n",
       "      <td>-1.556247</td>\n",
       "      <td>1.185257</td>\n",
       "      <td>0.018740</td>\n",
       "      <td>-1.315058</td>\n",
       "      <td>0.763899</td>\n",
       "    </tr>\n",
       "    <tr>\n",
       "      <th>...</th>\n",
       "      <td>...</td>\n",
       "      <td>...</td>\n",
       "      <td>...</td>\n",
       "      <td>...</td>\n",
       "      <td>...</td>\n",
       "      <td>...</td>\n",
       "      <td>...</td>\n",
       "      <td>...</td>\n",
       "      <td>...</td>\n",
       "      <td>...</td>\n",
       "      <td>...</td>\n",
       "      <td>...</td>\n",
       "      <td>...</td>\n",
       "      <td>...</td>\n",
       "      <td>...</td>\n",
       "      <td>...</td>\n",
       "      <td>...</td>\n",
       "      <td>...</td>\n",
       "      <td>...</td>\n",
       "      <td>...</td>\n",
       "      <td>...</td>\n",
       "    </tr>\n",
       "    <tr>\n",
       "      <th>Q9PW80</th>\n",
       "      <td>1.765709</td>\n",
       "      <td>-3.269270</td>\n",
       "      <td>-0.964447</td>\n",
       "      <td>0.027551</td>\n",
       "      <td>0.942651</td>\n",
       "      <td>0.620011</td>\n",
       "      <td>1.629530</td>\n",
       "      <td>4.563704</td>\n",
       "      <td>-3.255459</td>\n",
       "      <td>2.323085</td>\n",
       "      <td>...</td>\n",
       "      <td>-2.144457</td>\n",
       "      <td>3.306501</td>\n",
       "      <td>1.052426</td>\n",
       "      <td>1.227748</td>\n",
       "      <td>-1.187039</td>\n",
       "      <td>-2.034149</td>\n",
       "      <td>-1.309131</td>\n",
       "      <td>-0.604811</td>\n",
       "      <td>-1.172306</td>\n",
       "      <td>0.282283</td>\n",
       "    </tr>\n",
       "    <tr>\n",
       "      <th>Q9W1H5</th>\n",
       "      <td>1.118758</td>\n",
       "      <td>-0.587482</td>\n",
       "      <td>0.230328</td>\n",
       "      <td>0.334979</td>\n",
       "      <td>-0.331582</td>\n",
       "      <td>-0.022242</td>\n",
       "      <td>2.250997</td>\n",
       "      <td>1.375120</td>\n",
       "      <td>-0.762648</td>\n",
       "      <td>1.055281</td>\n",
       "      <td>...</td>\n",
       "      <td>0.118732</td>\n",
       "      <td>0.144925</td>\n",
       "      <td>0.908904</td>\n",
       "      <td>-1.419138</td>\n",
       "      <td>-0.539025</td>\n",
       "      <td>-2.019536</td>\n",
       "      <td>-0.685582</td>\n",
       "      <td>-0.401297</td>\n",
       "      <td>0.064833</td>\n",
       "      <td>-1.198326</td>\n",
       "    </tr>\n",
       "    <tr>\n",
       "      <th>Q5ISE2</th>\n",
       "      <td>-0.208676</td>\n",
       "      <td>-0.881484</td>\n",
       "      <td>0.749949</td>\n",
       "      <td>-0.604001</td>\n",
       "      <td>0.918492</td>\n",
       "      <td>-0.747613</td>\n",
       "      <td>0.890717</td>\n",
       "      <td>-0.070157</td>\n",
       "      <td>-0.812664</td>\n",
       "      <td>0.010005</td>\n",
       "      <td>...</td>\n",
       "      <td>-0.077104</td>\n",
       "      <td>1.578127</td>\n",
       "      <td>1.115955</td>\n",
       "      <td>-1.540212</td>\n",
       "      <td>-0.692428</td>\n",
       "      <td>-2.317833</td>\n",
       "      <td>0.882409</td>\n",
       "      <td>-2.047596</td>\n",
       "      <td>1.114108</td>\n",
       "      <td>-0.725852</td>\n",
       "    </tr>\n",
       "    <tr>\n",
       "      <th>O23164</th>\n",
       "      <td>-1.311845</td>\n",
       "      <td>1.542497</td>\n",
       "      <td>1.396345</td>\n",
       "      <td>0.729738</td>\n",
       "      <td>-0.308683</td>\n",
       "      <td>0.762246</td>\n",
       "      <td>0.606386</td>\n",
       "      <td>0.787085</td>\n",
       "      <td>-0.007480</td>\n",
       "      <td>0.159916</td>\n",
       "      <td>...</td>\n",
       "      <td>-0.765548</td>\n",
       "      <td>-0.056224</td>\n",
       "      <td>0.564101</td>\n",
       "      <td>-1.035323</td>\n",
       "      <td>-0.513762</td>\n",
       "      <td>-1.000527</td>\n",
       "      <td>0.143445</td>\n",
       "      <td>-0.702304</td>\n",
       "      <td>-0.729195</td>\n",
       "      <td>0.201860</td>\n",
       "    </tr>\n",
       "    <tr>\n",
       "      <th>P40090</th>\n",
       "      <td>-2.968199</td>\n",
       "      <td>2.409817</td>\n",
       "      <td>1.273019</td>\n",
       "      <td>0.717276</td>\n",
       "      <td>-0.115456</td>\n",
       "      <td>0.570475</td>\n",
       "      <td>0.278127</td>\n",
       "      <td>1.943539</td>\n",
       "      <td>-0.825182</td>\n",
       "      <td>-1.201476</td>\n",
       "      <td>...</td>\n",
       "      <td>-0.925385</td>\n",
       "      <td>1.618952</td>\n",
       "      <td>0.022680</td>\n",
       "      <td>-2.047199</td>\n",
       "      <td>-2.704555</td>\n",
       "      <td>0.522273</td>\n",
       "      <td>-0.677775</td>\n",
       "      <td>-1.982577</td>\n",
       "      <td>-2.370554</td>\n",
       "      <td>-0.458597</td>\n",
       "    </tr>\n",
       "  </tbody>\n",
       "</table>\n",
       "<p>28096 rows × 512 columns</p>\n",
       "</div>"
      ],
      "text/plain": [
       "        Column_1  Column_2  Column_3  Column_4  Column_5  Column_6  Column_7  \\\n",
       "Id                                                                             \n",
       "Q2F922 -1.418940 -0.868099  0.715212 -0.672144  0.046930  0.566642  0.840719   \n",
       "P0ACG4 -1.733634 -0.479552  1.123491  0.057367 -0.634735 -1.466390  0.357748   \n",
       "F1R9G5 -2.483528  0.219796  0.762714  1.209975 -0.766722  0.962693 -1.068817   \n",
       "Q5K4L6  1.685514 -0.298108  2.870711 -2.682812 -2.824287  2.353664 -1.630231   \n",
       "Q8IBE5 -0.809251 -0.783404  2.162811  1.196074 -0.427149  0.887493 -0.490968   \n",
       "...          ...       ...       ...       ...       ...       ...       ...   \n",
       "Q9PW80  1.765709 -3.269270 -0.964447  0.027551  0.942651  0.620011  1.629530   \n",
       "Q9W1H5  1.118758 -0.587482  0.230328  0.334979 -0.331582 -0.022242  2.250997   \n",
       "Q5ISE2 -0.208676 -0.881484  0.749949 -0.604001  0.918492 -0.747613  0.890717   \n",
       "O23164 -1.311845  1.542497  1.396345  0.729738 -0.308683  0.762246  0.606386   \n",
       "P40090 -2.968199  2.409817  1.273019  0.717276 -0.115456  0.570475  0.278127   \n",
       "\n",
       "        Column_8  Column_9  Column_10  ...  Column_503  Column_504  \\\n",
       "Id                                     ...                           \n",
       "Q2F922  0.838151 -0.647730  -0.061730  ...   -0.400778    1.029336   \n",
       "P0ACG4  1.296579 -0.587296  -0.469951  ...   -1.340290    1.005502   \n",
       "F1R9G5  0.773379 -0.532433   0.604654  ...   -0.476525    0.786754   \n",
       "Q5K4L6  1.031535  1.416975   1.903122  ...   -0.482224    3.592381   \n",
       "Q8IBE5  2.279024  0.047895   1.043612  ...   -0.478227    1.042970   \n",
       "...          ...       ...        ...  ...         ...         ...   \n",
       "Q9PW80  4.563704 -3.255459   2.323085  ...   -2.144457    3.306501   \n",
       "Q9W1H5  1.375120 -0.762648   1.055281  ...    0.118732    0.144925   \n",
       "Q5ISE2 -0.070157 -0.812664   0.010005  ...   -0.077104    1.578127   \n",
       "O23164  0.787085 -0.007480   0.159916  ...   -0.765548   -0.056224   \n",
       "P40090  1.943539 -0.825182  -1.201476  ...   -0.925385    1.618952   \n",
       "\n",
       "        Column_505  Column_506  Column_507  Column_508  Column_509  \\\n",
       "Id                                                                   \n",
       "Q2F922    1.317459   -1.138005   -0.659701   -0.547679    0.671604   \n",
       "P0ACG4    0.003859   -1.507618    0.280576   -1.495717   -1.114776   \n",
       "F1R9G5    0.283060   -0.039663   -1.207704   -1.472482    0.797554   \n",
       "Q5K4L6   -1.787926    3.761530   -2.827449    1.468741   -2.740567   \n",
       "Q8IBE5    0.695211   -2.052660    0.107395   -1.556247    1.185257   \n",
       "...            ...         ...         ...         ...         ...   \n",
       "Q9PW80    1.052426    1.227748   -1.187039   -2.034149   -1.309131   \n",
       "Q9W1H5    0.908904   -1.419138   -0.539025   -2.019536   -0.685582   \n",
       "Q5ISE2    1.115955   -1.540212   -0.692428   -2.317833    0.882409   \n",
       "O23164    0.564101   -1.035323   -0.513762   -1.000527    0.143445   \n",
       "P40090    0.022680   -2.047199   -2.704555    0.522273   -0.677775   \n",
       "\n",
       "        Column_510  Column_511  Column_512  \n",
       "Id                                          \n",
       "Q2F922    0.199940    0.812962    0.983339  \n",
       "P0ACG4   -0.456751   -0.372399    0.187828  \n",
       "F1R9G5    0.197788   -0.705257    0.442182  \n",
       "Q5K4L6    2.957629    1.207672    0.893299  \n",
       "Q8IBE5    0.018740   -1.315058    0.763899  \n",
       "...            ...         ...         ...  \n",
       "Q9PW80   -0.604811   -1.172306    0.282283  \n",
       "Q9W1H5   -0.401297    0.064833   -1.198326  \n",
       "Q5ISE2   -2.047596    1.114108   -0.725852  \n",
       "O23164   -0.702304   -0.729195    0.201860  \n",
       "P40090   -1.982577   -2.370554   -0.458597  \n",
       "\n",
       "[28096 rows x 512 columns]"
      ]
     },
     "execution_count": 83,
     "metadata": {},
     "output_type": "execute_result"
    }
   ],
   "source": [
    "nearest_neighbors_df"
   ]
  },
  {
   "cell_type": "code",
   "execution_count": 89,
   "id": "188e69de",
   "metadata": {
    "scrolled": true
   },
   "outputs": [],
   "source": [
    "lookup = pd.DataFrame({'query': test_df1.index, 'nearest': nearest_neighbors_df.index})\n",
    "annots = train_terms.set_index('EntryID').loc[list(set(train_terms.EntryID) & set(lookup.nearest))]\n",
    "annots = annots.reset_index()\n",
    "annots = pd.merge(annots, lookup, left_on='EntryID', right_on='nearest')\n",
    "annots['value'] = 1\n",
    "col_lookup = pd.DataFrame({'colid': np.arange(len(set(annots.term)))}, index=annots.term.unique())\n",
    "row_lookup = pd.DataFrame({'rowid': np.arange(len(nearest_neighbors_df.index))}, index=nearest_neighbors_df.index)\n",
    "annots = pd.merge(annots, row_lookup, left_on='nearest', right_index=True)\n",
    "annots = pd.merge(annots, col_lookup, left_on='term', right_index=True)\n",
    "data = annots.value.values\n",
    "i, j = annots.rowid.values, annots.colid.values\n",
    "mat = scipy.sparse.coo_matrix((data, (i,j)), shape=(len(row_lookup), len(col_lookup)))"
   ]
  },
  {
   "cell_type": "code",
   "execution_count": 90,
   "id": "edbfcc4e",
   "metadata": {},
   "outputs": [
    {
     "data": {
      "text/plain": [
       "<28096x21713 sparse matrix of type '<class 'numpy.int64'>'\n",
       "\twith 1675738 stored elements in COOrdinate format>"
      ]
     },
     "execution_count": 90,
     "metadata": {},
     "output_type": "execute_result"
    }
   ],
   "source": [
    "mat"
   ]
  },
  {
   "cell_type": "code",
   "execution_count": 76,
   "id": "30924e6e",
   "metadata": {},
   "outputs": [],
   "source": [
    "lookup = pd.DataFrame({'query': test_df1.index, 'nearest': nearest_neighbors_df.index})\n",
    "annots = train_terms.set_index('EntryID').loc[list(set(train_terms.EntryID) & set(lookup['query']))]\n",
    "annots = annots.reset_index()\n",
    "annots = pd.merge(annots, lookup, left_on='EntryID', right_on='query')\n",
    "annots['value'] = 1\n",
    "col_lookup = pd.DataFrame({'colid': np.arange(len(set(annots.term)))}, index=annots.term.unique())\n",
    "row_lookup = pd.DataFrame({'rowid': np.arange(len(set(annots['query'])))}, index=annots['query'].unique())\n",
    "annots = pd.merge(annots, row_lookup, left_on='EntryID', right_index=True)\n",
    "annots = pd.merge(annots, col_lookup, left_on='term', right_index=True)\n",
    "data = annots.value.values\n",
    "i, j = annots.rowid.values, annots.colid.values\n",
    "mat2 = scipy.sparse.coo_matrix((data, (i,j)), shape=(len(row_lookup), len(col_lookup)))"
   ]
  },
  {
   "cell_type": "code",
   "execution_count": 77,
   "id": "e048a741",
   "metadata": {
    "scrolled": true
   },
   "outputs": [
    {
     "data": {
      "text/plain": [
       "<28096x22424 sparse matrix of type '<class 'numpy.int64'>'\n",
       "\twith 1053986 stored elements in COOrdinate format>"
      ]
     },
     "execution_count": 77,
     "metadata": {},
     "output_type": "execute_result"
    }
   ],
   "source": [
    "mat2"
   ]
  },
  {
   "cell_type": "code",
   "execution_count": 96,
   "id": "8cb44253",
   "metadata": {},
   "outputs": [
    {
     "data": {
      "text/plain": [
       "array([[0, 0, 0, ..., 0, 0, 0],\n",
       "       [0, 0, 0, ..., 0, 0, 0],\n",
       "       [0, 0, 0, ..., 0, 0, 0],\n",
       "       ...,\n",
       "       [0, 0, 0, ..., 0, 0, 0],\n",
       "       [0, 0, 0, ..., 0, 0, 0],\n",
       "       [0, 0, 0, ..., 0, 0, 0]])"
      ]
     },
     "execution_count": 96,
     "metadata": {},
     "output_type": "execute_result"
    }
   ],
   "source": [
    "mat.toarray()"
   ]
  },
  {
   "cell_type": "code",
   "execution_count": 97,
   "id": "6e7102f1",
   "metadata": {},
   "outputs": [
    {
     "data": {
      "text/plain": [
       "array([[1, 1, 1, ..., 0, 0, 0],\n",
       "       [0, 0, 0, ..., 0, 0, 0],\n",
       "       [0, 0, 0, ..., 0, 0, 0],\n",
       "       ...,\n",
       "       [0, 0, 1, ..., 0, 0, 0],\n",
       "       [0, 0, 1, ..., 0, 0, 0],\n",
       "       [0, 1, 1, ..., 0, 0, 0]])"
      ]
     },
     "execution_count": 97,
     "metadata": {},
     "output_type": "execute_result"
    }
   ],
   "source": [
    "mat2.toarray()"
   ]
  },
  {
   "cell_type": "code",
   "execution_count": 95,
   "id": "c7b12432",
   "metadata": {},
   "outputs": [
    {
     "data": {
      "text/plain": [
       "0.0018003157925305505"
      ]
     },
     "execution_count": 95,
     "metadata": {},
     "output_type": "execute_result"
    }
   ],
   "source": [
    "average_precision_score(mat2.toarray(), mat.toarray())"
   ]
  }
 ],
 "metadata": {
  "kernelspec": {
   "display_name": "Python 3 (ipykernel)",
   "language": "python",
   "name": "python3"
  },
  "language_info": {
   "codemirror_mode": {
    "name": "ipython",
    "version": 3
   },
   "file_extension": ".py",
   "mimetype": "text/x-python",
   "name": "python",
   "nbconvert_exporter": "python",
   "pygments_lexer": "ipython3",
   "version": "3.9.16"
  }
 },
 "nbformat": 4,
 "nbformat_minor": 5
}
